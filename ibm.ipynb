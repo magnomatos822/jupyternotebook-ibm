{
 "cells": [
  {
   "cell_type": "markdown",
   "metadata": {},
   "source": [
    "# Data Science Tools and Ecosystem "
   ]
  },
  {
   "cell_type": "markdown",
   "metadata": {},
   "source": [
    "## Introduction\n",
    "\n",
    "Welcome to my Data Science Final Project notebook! In this project, I'll be exploring various aspects of data science, from languages and libraries to tools and practical examples."
   ]
  },
  {
   "cell_type": "markdown",
   "metadata": {},
   "source": [
    "## Data Science Languages\n",
    "\n",
    "In the field of data science, various programming languages are commonly used for analysis, visualization, and modeling. Here are some key data science languages:\n",
    "\n",
    "1. Python \n",
    "2. R \n",
    "3. Julia\n",
    "4. Scala \n",
    "5. SQL "
   ]
  },
  {
   "cell_type": "markdown",
   "metadata": {},
   "source": [
    "# Data Science Library\n",
    "\n",
    "The librarys includes bellow:\n",
    "\n",
    "1. NumPy\n",
    "\n",
    "2. Pandas\n",
    "\n",
    "3. Matplotlib\n",
    "\n",
    "4. Seaborn\n",
    "\n",
    "5. Scikit-learn\n",
    "\n",
    "6. TensorFlow \n",
    "\n",
    "7. SciPy\n",
    "\n",
    "8. Statsmodels \n",
    "\n",
    "9. NLTK \n",
    "\n",
    "10. Beautiful Soup \n",
    "\n",
    "11. Plotly \n",
    "\n",
    "12. Scrapy \n"
   ]
  },
  {
   "cell_type": "markdown",
   "metadata": {},
   "source": [
    "| Data Science Tools |\n",
    "|---------------------|\n",
    "| Python              |\n",
    "| R                   |\n",
    "| Jupyter Notebooks  |\n",
    "| RStudio             |\n",
    "| Pandas              |\n",
    "| NumPy               |\n",
    "| Matplotlib          |\n",
    "| Seaborn             |\n",
    "| Plotly              |\n",
    "| Scikit-learn        |\n",
    "| TensorFlow          |\n",
    "| Statsmodels         |\n",
    "| Apache Spark        |\n",
    "| SQL                 |\n",
    "| SQLite              |\n",
    "| Beautiful Soup      |\n",
    "| Git                 |\n",
    "| Docker              |\n",
    "| Google Colab        |\n",
    "\n",
    "\n"
   ]
  },
  {
   "cell_type": "markdown",
   "metadata": {},
   "source": [
    "## Programming Languages:\n",
    "\n",
    "1. Python: Widely used for data manipulation, analysis, and machine learning. Libraries like NumPy, Pandas, Matplotlib, and Scikit-learn are essential for data science tasks.\n",
    "R: Particularly popular for statistical analysis and data visualization.\n",
    "Integrated Development Environments (IDEs):\n",
    "\n",
    "2. Jupyter Notebooks: Interactive notebooks that support live code, equations, visualizations, and narrative text. Great for exploratory data analysis and sharing insights.\n",
    "RStudio: An integrated development environment for R, providing tools for coding, visualization, and publishing.\n",
    "Data Manipulation and Analysis:\n",
    "\n",
    "3. Pandas: Python library for data manipulation and analysis using DataFrame structures.\n",
    "NumPy: Fundamental package for scientific computing in Python, providing support for large, multi-dimensional arrays and matrices.\n",
    "Data Visualization:\n",
    "\n",
    "4. Matplotlib: 2D plotting library for creating static, animated, and interactive visualizations in Python.\n",
    "Seaborn: Statistical data visualization library based on Matplotlib, providing an interface for drawing attractive and informative statistical graphics.\n",
    "Plotly: Interactive graphing library for creating online and offline visualizations.\n",
    "Machine Learning Frameworks:\n",
    "\n",
    "5. Scikit-learn: Python library for machine learning tasks such as classification, regression, clustering, and dimensionality reduction.\n",
    "TensorFlow and PyTorch: Deep learning frameworks for building and training neural networks.\n",
    "Statistical Analysis:\n",
    "\n",
    "6. Statsmodels: Library for estimating and testing statistical models.\n",
    "Big Data Processing:\n",
    "\n",
    "7. Apache Spark: Open-source distributed computing system that can process large-scale data quickly.\n",
    "Database Management:\n",
    "\n",
    "8. SQL (Structured Query Language): Used for managing and manipulating relational databases.\n",
    "SQLite: Embedded database engine suitable for local storage and small-scale applications.\n",
    "Web Scraping:\n",
    "\n",
    "9. Beautiful Soup: Python library for pulling data out of HTML and XML files.\n",
    "Version Control:\n",
    "\n",
    "10. Git: Distributed version control system widely used for tracking changes in source code during software development.\n",
    "Containerization:\n",
    "\n",
    "12. Docker: Platform for developing, shipping, and running applications in containers.\n",
    "Collaboration and Notebooks:\n",
    "\n",
    "13. Google Colab: Cloud-based platform for writing and executing Python code in a collaborative environment."
   ]
  },
  {
   "cell_type": "markdown",
   "metadata": {},
   "source": [
    "## Arithmetic Expression Examples\n",
    "\n",
    "Arithmetic expressions involve mathematical operations like addition, subtraction, multiplication, and division. In this section, we'll explore some basic examples of arithmetic expressions using Markdown to represent mathematical notation.\n"
   ]
  },
  {
   "cell_type": "code",
   "execution_count": 1,
   "metadata": {},
   "outputs": [
    {
     "name": "stdout",
     "output_type": "stream",
     "text": [
      "Multiplication: 4 * 7 = 28\n"
     ]
    }
   ],
   "source": [
    "# Multiply and Add Numbers Example\n",
    "num1 = 4\n",
    "num2 = 7\n",
    "\n",
    "# Multiplication\n",
    "result_multiply = num1 * num2\n",
    "print(f\"Multiplication: {num1} * {num2} = {result_multiply}\")"
   ]
  },
  {
   "cell_type": "code",
   "execution_count": 2,
   "metadata": {},
   "outputs": [
    {
     "name": "stdout",
     "output_type": "stream",
     "text": [
      "120 minutes is equal to 2.0 hours\n"
     ]
    }
   ],
   "source": [
    "# Convert Minutes to Hours Example\n",
    "minutes = 120\n",
    "\n",
    "# Conversion\n",
    "hours = minutes / 60\n",
    "\n",
    "# Display the result\n",
    "print(f\"{minutes} minutes is equal to {hours} hours\")"
   ]
  },
  {
   "cell_type": "markdown",
   "metadata": {},
   "source": [
    "## Objectives\n",
    "\n",
    "* Understand basic arithmetic operations such as addition, subtraction, multiplication, and division.\n",
    "* Learn how to represent arithmetic expressions using mathematical notation.\n",
    "* Practice coding examples that involve multiplication and addition of numbers in Python.\n",
    "* Explore the conversion of minutes to hours and understand the concept of time conversion.\n",
    "* Gain familiarity with working in a Markdown environment and executing code cells.\n",
    "* Feel free to modify values and experiment with the provided examples to reinforce learning."
   ]
  },
  {
   "cell_type": "markdown",
   "metadata": {},
   "source": [
    "# Author\n",
    "[Magno Matos](https://www.linkedin.com/in/magnomatos/)"
   ]
  }
 ],
 "metadata": {
  "kernelspec": {
   "display_name": "Python 3",
   "language": "python",
   "name": "python3"
  },
  "language_info": {
   "codemirror_mode": {
    "name": "ipython",
    "version": 3
   },
   "file_extension": ".py",
   "mimetype": "text/x-python",
   "name": "python",
   "nbconvert_exporter": "python",
   "pygments_lexer": "ipython3",
   "version": "3.12.0"
  }
 },
 "nbformat": 4,
 "nbformat_minor": 2
}
