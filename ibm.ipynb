{
 "cells": [
  {
   "cell_type": "markdown",
   "metadata": {},
   "source": [
    "# My Data Science Final Project Notebook"
   ]
  },
  {
   "cell_type": "markdown",
   "metadata": {},
   "source": [
    "## Introduction\n",
    "\n",
    "Welcome to my Data Science Final Project notebook! In this project, I'll be exploring various aspects of data science, from languages and libraries to tools and practical examples."
   ]
  },
  {
   "cell_type": "markdown",
   "metadata": {},
   "source": [
    "## Data Science Languages\n",
    "\n",
    "In the field of data science, various programming languages are commonly used for analysis, visualization, and modeling. Here are some key data science languages:\n",
    "\n",
    "1. **Python:** Widely adopted for its simplicity, versatility, and a rich ecosystem of libraries like NumPy, Pandas, and Scikit-learn.\n",
    "\n",
    "2. **R:** Known for its statistical capabilities, R is commonly used for data exploration, analysis, and visualization.\n",
    "\n",
    "3. **Julia:** Emerging as a high-performance language for data science, Julia is designed for numerical and scientific computing.\n",
    "\n",
    "4. **Scala:** Often used in big data processing frameworks like Apache Spark, Scala combines object-oriented and functional programming.\n",
    "\n",
    "5. **SQL:** Essential for working with relational databases, SQL is used to query and manipulate data efficiently."
   ]
  },
  {
   "cell_type": "markdown",
   "metadata": {},
   "source": [
    "# Data Science Library\n",
    "\n",
    "1. **NumPy:** A fundamental package for scientific computing with Python. It provides support for large, multi-dimensional arrays and matrices, along with mathematical functions to operate on these arrays.\n",
    "\n",
    "2. **Pandas:** A powerful data manipulation and analysis library for Python. It provides data structures like DataFrame and Series, making it easy to work with structured data.\n",
    "\n",
    "3. **Matplotlib:** A comprehensive library for creating static, animated, and interactive visualizations in Python. It is often used for creating plots, charts, and other data visualizations.\n",
    "\n",
    "4. **Seaborn:** Built on top of Matplotlib, Seaborn is a statistical data visualization library that provides an interface for drawing attractive and informative statistical graphics.\n",
    "\n",
    "5. **Scikit-learn:** A simple and efficient tool for data analysis and machine learning. It includes various machine learning algorithms and tools for tasks such as classification, regression, clustering, and dimensionality reduction.\n",
    "\n",
    "6. **TensorFlow and PyTorch:** Deep learning frameworks that provide tools for building and training neural networks. TensorFlow is developed by Google, while PyTorch is maintained by Facebook. Both are widely used in the deep learning community.\n",
    "\n",
    "7. **SciPy:** A library for mathematics, science, and engineering. It builds on NumPy and provides additional functionality for optimization, integration, interpolation, eigenvalue problems, and more.\n",
    "\n",
    "8. **Statsmodels:** A library for estimating and testing statistical models. It is particularly useful for regression analysis and hypothesis testing.\n",
    "\n",
    "9. **NLTK (Natural Language Toolkit):** A library for working with human language data. It provides easy-to-use interfaces to over 50 corpora and lexical resources, such as WordNet.\n",
    "\n",
    "10. **Beautiful Soup:** A library for pulling data out of HTML and XML files. It provides Pythonic idioms for iterating, searching, and modifying the parse tree.\n",
    "\n",
    "11. **Plotly:** A graphing library that makes interactive, publication-quality graphs online. It supports various chart types and is often used for creating dashboards and interactive visualizations.\n",
    "\n",
    "12. **Scrapy:** An open-source and collaborative web crawling framework for Python. It is used to extract the data from websites.\n"
   ]
  },
  {
   "cell_type": "markdown",
   "metadata": {},
   "source": [
    "# Data Science Tools\n",
    "\n",
    "## Programming Languages\n",
    "- **Python:** Widely used for data manipulation, analysis, and machine learning. Libraries like NumPy, Pandas, Matplotlib, and Scikit-learn are essential for data science tasks.\n",
    "- **R:** Particularly popular for statistical analysis and data visualization.\n",
    "\n",
    "## Integrated Development Environments (IDEs)\n",
    "- **Jupyter Notebooks:** Interactive notebooks that support live code, equations, visualizations, and narrative text. Great for exploratory data analysis and sharing insights.\n",
    "- **RStudio:** An integrated development environment for R, providing tools for coding, visualization, and publishing.\n",
    "\n",
    "## Data Manipulation and Analysis\n",
    "- **Pandas:** Python library for data manipulation and analysis using DataFrame structures.\n",
    "- **NumPy:** Fundamental package for scientific computing in Python, providing support for large, multi-dimensional arrays and matrices.\n",
    "\n",
    "## Data Visualization\n",
    "- **Matplotlib:** 2D plotting library for creating static, animated, and interactive visualizations in Python.\n",
    "- **Seaborn:** Statistical data visualization library based on Matplotlib, providing an interface for drawing attractive and informative statistical graphics.\n",
    "- **Plotly:** Interactive graphing library for creating online and offline visualizations.\n",
    "\n",
    "## Machine Learning Frameworks\n",
    "- **Scikit-learn:** Python library for machine learning tasks such as classification, regression, clustering, and dimensionality reduction.\n",
    "- **TensorFlow and PyTorch:** Deep learning frameworks for building and training neural networks.\n",
    "\n",
    "## Statistical Analysis\n",
    "- **Statsmodels:** Library for estimating and testing statistical models.\n",
    "\n",
    "## Big Data Processing\n",
    "- **Apache Spark:** Open-source distributed computing system that can process large-scale data quickly.\n",
    "\n",
    "## Database Management\n",
    "- **SQL (Structured Query Language):** Used for managing and manipulating relational databases.\n",
    "- **SQLite:** Embedded database engine suitable for local storage and small-scale applications.\n",
    "\n",
    "## Web Scraping\n",
    "- **Beautiful Soup:** Python library for pulling data out of HTML and XML files.\n",
    "\n",
    "## Version Control\n",
    "- **Git:** Distributed version control system widely used for tracking changes in source code during software development.\n",
    "\n",
    "## Containerization\n",
    "- **Docker:** Platform for developing, shipping, and running applications in containers.\n",
    "\n",
    "## Collaboration and Notebooks\n",
    "- **Google Colab:** Cloud-based platform for writing and executing Python code in a collaborative environment.\n",
    "\n"
   ]
  },
  {
   "cell_type": "markdown",
   "metadata": {},
   "source": [
    "## Programming Languages:\n",
    "\n",
    "1. Python: Widely used for data manipulation, analysis, and machine learning. Libraries like NumPy, Pandas, Matplotlib, and Scikit-learn are essential for data science tasks.\n",
    "R: Particularly popular for statistical analysis and data visualization.\n",
    "Integrated Development Environments (IDEs):\n",
    "\n",
    "2. Jupyter Notebooks: Interactive notebooks that support live code, equations, visualizations, and narrative text. Great for exploratory data analysis and sharing insights.\n",
    "RStudio: An integrated development environment for R, providing tools for coding, visualization, and publishing.\n",
    "Data Manipulation and Analysis:\n",
    "\n",
    "3. Pandas: Python library for data manipulation and analysis using DataFrame structures.\n",
    "NumPy: Fundamental package for scientific computing in Python, providing support for large, multi-dimensional arrays and matrices.\n",
    "Data Visualization:\n",
    "\n",
    "4. Matplotlib: 2D plotting library for creating static, animated, and interactive visualizations in Python.\n",
    "Seaborn: Statistical data visualization library based on Matplotlib, providing an interface for drawing attractive and informative statistical graphics.\n",
    "Plotly: Interactive graphing library for creating online and offline visualizations.\n",
    "Machine Learning Frameworks:\n",
    "\n",
    "5. Scikit-learn: Python library for machine learning tasks such as classification, regression, clustering, and dimensionality reduction.\n",
    "TensorFlow and PyTorch: Deep learning frameworks for building and training neural networks.\n",
    "Statistical Analysis:\n",
    "\n",
    "6. Statsmodels: Library for estimating and testing statistical models.\n",
    "Big Data Processing:\n",
    "\n",
    "7. Apache Spark: Open-source distributed computing system that can process large-scale data quickly.\n",
    "Database Management:\n",
    "\n",
    "8. SQL (Structured Query Language): Used for managing and manipulating relational databases.\n",
    "SQLite: Embedded database engine suitable for local storage and small-scale applications.\n",
    "Web Scraping:\n",
    "\n",
    "9. Beautiful Soup: Python library for pulling data out of HTML and XML files.\n",
    "Version Control:\n",
    "\n",
    "10. Git: Distributed version control system widely used for tracking changes in source code during software development.\n",
    "Containerization:\n",
    "\n",
    "12. Docker: Platform for developing, shipping, and running applications in containers.\n",
    "Collaboration and Notebooks:\n",
    "\n",
    "13. Google Colab: Cloud-based platform for writing and executing Python code in a collaborative environment."
   ]
  },
  {
   "cell_type": "markdown",
   "metadata": {},
   "source": [
    "## Arithmetic Expression Examples\n",
    "\n",
    "Arithmetic expressions involve mathematical operations like addition, subtraction, multiplication, and division. In this section, we'll explore some basic examples of arithmetic expressions using Markdown to represent mathematical notation.\n",
    "\n",
    "### Addition\n",
    "\n",
    "The addition operation is represented by the `+` symbol. For example:\n",
    "\n",
    "\\[ 3 + 5 = 8 \\]\n",
    "\n",
    "### Subtraction\n",
    "\n",
    "Subtraction uses the `-` symbol. Here's an example:\n",
    "\n",
    "\\[ 10 - 7 = 3 \\]\n",
    "\n",
    "### Multiplication\n",
    "\n",
    "Multiplication is denoted by the `*` symbol. For instance:\n",
    "\n",
    "\\[ 4 \\times 6 = 24 \\]\n",
    "\n",
    "### Division\n",
    "\n",
    "The division operation uses the `/` symbol. Example:\n",
    "\n",
    "\\[ \\frac{15}{3} = 5 \\]\n",
    "\n"
   ]
  },
  {
   "cell_type": "code",
   "execution_count": 4,
   "metadata": {},
   "outputs": [
    {
     "name": "stdout",
     "output_type": "stream",
     "text": [
      "Multiplication: 4 * 7 = 28\n"
     ]
    }
   ],
   "source": [
    "# Multiply and Add Numbers Example\n",
    "num1 = 4\n",
    "num2 = 7\n",
    "\n",
    "# Multiplication\n",
    "result_multiply = num1 * num2\n",
    "print(f\"Multiplication: {num1} * {num2} = {result_multiply}\")"
   ]
  },
  {
   "cell_type": "code",
   "execution_count": 5,
   "metadata": {},
   "outputs": [
    {
     "name": "stdout",
     "output_type": "stream",
     "text": [
      "120 minutes is equal to 2.0 hours\n"
     ]
    }
   ],
   "source": [
    "# Convert Minutes to Hours Example\n",
    "minutes = 120\n",
    "\n",
    "# Conversion\n",
    "hours = minutes / 60\n",
    "\n",
    "# Display the result\n",
    "print(f\"{minutes} minutes is equal to {hours} hours\")"
   ]
  },
  {
   "cell_type": "markdown",
   "metadata": {},
   "source": [
    "## Objectives\n",
    "\n",
    "1. Understand basic arithmetic operations such as addition, subtraction, multiplication, and division.\n",
    "2. Learn how to represent arithmetic expressions using mathematical notation.\n",
    "3. Practice coding examples that involve multiplication and addition of numbers in Python.\n",
    "4. Explore the conversion of minutes to hours and understand the concept of time conversion.\n",
    "5. Gain familiarity with working in a Markdown environment and executing code cells.\n",
    "6. Feel free to modify values and experiment with the provided examples to reinforce learning."
   ]
  },
  {
   "cell_type": "markdown",
   "metadata": {},
   "source": [
    "# Author\n",
    "[Magno Matos](https://www.linkedin.com/in/magnomatos/)"
   ]
  }
 ],
 "metadata": {
  "kernelspec": {
   "display_name": "Python 3",
   "language": "python",
   "name": "python3"
  },
  "language_info": {
   "codemirror_mode": {
    "name": "ipython",
    "version": 3
   },
   "file_extension": ".py",
   "mimetype": "text/x-python",
   "name": "python",
   "nbconvert_exporter": "python",
   "pygments_lexer": "ipython3",
   "version": "3.12.0"
  }
 },
 "nbformat": 4,
 "nbformat_minor": 2
}
